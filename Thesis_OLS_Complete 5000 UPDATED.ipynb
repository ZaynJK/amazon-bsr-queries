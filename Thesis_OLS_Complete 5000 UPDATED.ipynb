{
 "cells": [
  {
   "cell_type": "markdown",
   "metadata": {},
   "source": [
    "<h3 style=\"text-align: center;\">\n",
    "Emory University - Department of Economics\n",
    "</h3>\n",
    "\n",
    "<h4 style=\"text-align: center;\">\n",
    "Prof. Maria Arbatskaya, Ph.D.\n",
    "</h4>\n",
    "\n",
    "<h5 style=\"text-align: center;\">\n",
    "Student: Fareed Wajid Khan \n",
    "\n",
    "Date: December 11th, 2023\n",
    "</h5>"
   ]
  },
  {
   "cell_type": "markdown",
   "metadata": {},
   "source": [
    "### Table of contents"
   ]
  },
  {
   "cell_type": "markdown",
   "metadata": {},
   "source": [
    "0. Packages and some specific settings\n",
    "1. Access Keepa API\n",
    "2. Amazon categories\n",
    "3. Product history query\n",
    "4. Variation query\n",
    "5. Top sellers query"
   ]
  },
  {
   "cell_type": "markdown",
   "metadata": {},
   "source": [
    "### 0. Packages and some specific settings"
   ]
  },
  {
   "cell_type": "code",
   "execution_count": 2,
   "metadata": {},
   "outputs": [
    {
     "name": "stdout",
     "output_type": "stream",
     "text": [
      "Requirement already satisfied: aiohttp in /opt/anaconda3/lib/python3.8/site-packages (3.9.1)\n",
      "Requirement already satisfied: yarl<2.0,>=1.0 in /opt/anaconda3/lib/python3.8/site-packages (from aiohttp) (1.9.4)\n",
      "Requirement already satisfied: async-timeout<5.0,>=4.0 in /opt/anaconda3/lib/python3.8/site-packages (from aiohttp) (4.0.3)\n",
      "Requirement already satisfied: frozenlist>=1.1.1 in /opt/anaconda3/lib/python3.8/site-packages (from aiohttp) (1.4.0)\n",
      "Requirement already satisfied: attrs>=17.3.0 in /opt/anaconda3/lib/python3.8/site-packages (from aiohttp) (20.3.0)\n",
      "Requirement already satisfied: aiosignal>=1.1.2 in /opt/anaconda3/lib/python3.8/site-packages (from aiohttp) (1.3.1)\n",
      "Requirement already satisfied: multidict<7.0,>=4.5 in /opt/anaconda3/lib/python3.8/site-packages (from aiohttp) (6.0.4)\n",
      "Requirement already satisfied: idna>=2.0 in /opt/anaconda3/lib/python3.8/site-packages (from yarl<2.0,>=1.0->aiohttp) (2.10)\n",
      "Note: you may need to restart the kernel to use updated packages.\n"
     ]
    }
   ],
   "source": [
    "pip install aiohttp"
   ]
  },
  {
   "cell_type": "code",
   "execution_count": 3,
   "metadata": {},
   "outputs": [
    {
     "name": "stdout",
     "output_type": "stream",
     "text": [
      "Requirement already satisfied: tqdm in /opt/anaconda3/lib/python3.8/site-packages (4.59.0)\n",
      "Note: you may need to restart the kernel to use updated packages.\n"
     ]
    }
   ],
   "source": [
    "pip install tqdm"
   ]
  },
  {
   "cell_type": "code",
   "execution_count": 4,
   "metadata": {},
   "outputs": [
    {
     "name": "stdout",
     "output_type": "stream",
     "text": [
      "Requirement already satisfied: keepa in /opt/anaconda3/lib/python3.8/site-packages (1.3.8)\n",
      "Requirement already satisfied: numpy>=1.9.3 in /opt/anaconda3/lib/python3.8/site-packages (from keepa) (1.24.4)\n",
      "Requirement already satisfied: pandas in /opt/anaconda3/lib/python3.8/site-packages (from keepa) (2.0.3)\n",
      "Requirement already satisfied: tqdm in /opt/anaconda3/lib/python3.8/site-packages (from keepa) (4.59.0)\n",
      "Requirement already satisfied: aiohttp in /opt/anaconda3/lib/python3.8/site-packages (from keepa) (3.9.1)\n",
      "Requirement already satisfied: requests>=2.2 in /opt/anaconda3/lib/python3.8/site-packages (from keepa) (2.25.1)\n",
      "Requirement already satisfied: chardet<5,>=3.0.2 in /opt/anaconda3/lib/python3.8/site-packages (from requests>=2.2->keepa) (4.0.0)\n",
      "Requirement already satisfied: idna<3,>=2.5 in /opt/anaconda3/lib/python3.8/site-packages (from requests>=2.2->keepa) (2.10)\n",
      "Requirement already satisfied: certifi>=2017.4.17 in /opt/anaconda3/lib/python3.8/site-packages (from requests>=2.2->keepa) (2023.7.22)\n",
      "Requirement already satisfied: urllib3<1.27,>=1.21.1 in /opt/anaconda3/lib/python3.8/site-packages (from requests>=2.2->keepa) (1.26.4)\n",
      "Requirement already satisfied: attrs>=17.3.0 in /opt/anaconda3/lib/python3.8/site-packages (from aiohttp->keepa) (20.3.0)\n",
      "Requirement already satisfied: async-timeout<5.0,>=4.0 in /opt/anaconda3/lib/python3.8/site-packages (from aiohttp->keepa) (4.0.3)\n",
      "Requirement already satisfied: multidict<7.0,>=4.5 in /opt/anaconda3/lib/python3.8/site-packages (from aiohttp->keepa) (6.0.4)\n",
      "Requirement already satisfied: aiosignal>=1.1.2 in /opt/anaconda3/lib/python3.8/site-packages (from aiohttp->keepa) (1.3.1)\n",
      "Requirement already satisfied: yarl<2.0,>=1.0 in /opt/anaconda3/lib/python3.8/site-packages (from aiohttp->keepa) (1.9.4)\n",
      "Requirement already satisfied: frozenlist>=1.1.1 in /opt/anaconda3/lib/python3.8/site-packages (from aiohttp->keepa) (1.4.0)\n",
      "Requirement already satisfied: python-dateutil>=2.8.2 in /opt/anaconda3/lib/python3.8/site-packages (from pandas->keepa) (2.8.2)\n",
      "Requirement already satisfied: pytz>=2020.1 in /opt/anaconda3/lib/python3.8/site-packages (from pandas->keepa) (2021.1)\n",
      "Requirement already satisfied: tzdata>=2022.1 in /opt/anaconda3/lib/python3.8/site-packages (from pandas->keepa) (2023.3)\n",
      "Requirement already satisfied: six>=1.5 in /opt/anaconda3/lib/python3.8/site-packages (from python-dateutil>=2.8.2->pandas->keepa) (1.15.0)\n",
      "Note: you may need to restart the kernel to use updated packages.\n"
     ]
    }
   ],
   "source": [
    "pip install keepa"
   ]
  },
  {
   "cell_type": "code",
   "execution_count": 5,
   "metadata": {},
   "outputs": [
    {
     "name": "stdout",
     "output_type": "stream",
     "text": [
      "Requirement already satisfied: asyncio in /opt/anaconda3/lib/python3.8/site-packages (3.4.3)\n",
      "Note: you may need to restart the kernel to use updated packages.\n"
     ]
    }
   ],
   "source": [
    "pip install asyncio"
   ]
  },
  {
   "cell_type": "code",
   "execution_count": 6,
   "metadata": {},
   "outputs": [],
   "source": [
    "import pandas as pd\n",
    "import numpy as np\n",
    "import matplotlib.pyplot as plt\n",
    "import aiohttp\n",
    "import tqdm\n",
    "import keepa\n",
    "import os\n",
    "import asyncio\n",
    "\n",
    "#plt.style.use('whitegrid') # Matplotlib style\n",
    "plt.rcParams['figure.figsize'] = [6, 3] # Matplotlib figure size\n",
    "\n",
    "# Set working directory (change to your own)\n",
    "path = \"/Users/fareedkhan/Documents/Thesis\"\n",
    "os.chdir(path)"
   ]
  },
  {
   "cell_type": "markdown",
   "metadata": {},
   "source": [
    "# Data Organization & Preprocessing"
   ]
  },
  {
   "cell_type": "code",
   "execution_count": 7,
   "metadata": {},
   "outputs": [],
   "source": [
    "import pandas as pd\n",
    "\n",
    "# Import Data\n",
    "original_data = pd.read_csv(\"Keepa Feb 13.csv\")\n",
    "modified_data = original_data.drop(['Locale', 'Image'], axis =1)\n",
    "pd.set_option('display.max_columns', None)\n",
    "pd.set_option('display.max_rows', None)\n",
    "\n",
    "#Parsing Sales rank\n",
    "def parse_sales_rank(row):\n",
    "    if isinstance(row, str):\n",
    "        parts = row.split('|')\n",
    "        absolute_rank = parts[0].strip()\n",
    "        top_1_percent = parts[1].strip()\n",
    "\n",
    "        category_part = parts[-1].strip()\n",
    "        category = category_part.split(';')[0].strip()\n",
    "\n",
    "        return pd.Series([absolute_rank, top_1_percent, category])\n",
    "    else:\n",
    "        return pd.Series([None,None,None])\n",
    "\n",
    "#S Split Subcategory sales rank for processing\n",
    "new_columns = original_data['Sales Rank: Subcategory Sales Ranks'].apply(parse_sales_rank)\n",
    "new_columns.columns = ['Absolute Rank', 'Top 1 Percent', 'Category']\n",
    "modified_data = pd.concat([modified_data, new_columns], axis=1)\n",
    "\n",
    "\n",
    "# Rempve unnessesary data\n",
    "modified_data = modified_data.drop(['Sales Rank: Subcategory Sales Ranks'], axis =1)\n",
    "modified_data = modified_data.drop(['Sales Rank: Reference'], axis =1)\n",
    "modified_data = modified_data.drop(['Top 1 Percent'], axis =1)\n",
    "\n",
    "# Convert Absolute Rank into numeric\n",
    "modified_data['Absolute Rank'] = modified_data['Absolute Rank'].str.strip('# ')\n",
    "modified_data['Absolute Rank'] = pd.to_numeric(modified_data['Absolute Rank'],errors='coerce')\n",
    "\n",
    "#Count Variation ASIN\n",
    "modified_data['Variation ASINs'] = modified_data['Variation ASINs'].fillna(\"\")\n",
    "modified_data['Variation ASIN Count'] = modified_data['Variation ASINs'].apply(lambda x: len(x.split(',')))\n",
    "\n",
    "\n",
    "#modified_data.head()\n",
    "#modified_data.to_csv('Modified.csv')\n"
   ]
  },
  {
   "cell_type": "markdown",
   "metadata": {},
   "source": [
    "## Data Prep (Converting Data & One-Hot Encoding)"
   ]
  },
  {
   "cell_type": "code",
   "execution_count": 41,
   "metadata": {},
   "outputs": [
    {
     "name": "stdout",
     "output_type": "stream",
     "text": [
      "Column 'New, 3rd Party FBM 🚚: Current' contains a '$'\n",
      "Column 'New, 3rd Party FBM 🚚: 90 days avg.' contains a '$'\n"
     ]
    }
   ],
   "source": [
    "import statsmodels\n",
    "\n",
    "# Categorizing Data\n",
    "categorical_column_data = ['Buy Box Seller', 'Buy Box Used Seller', 'Buy Box Used: Condition', 'Categories: Root', 'Categories: Sub', 'Categories: Tree', 'ASIN', 'Product Codes: EAN', 'Product Codes: UPC', 'Product Codes: PartNumber', 'Parent ASIN', 'Variation ASINs', 'Freq. Bought Together', 'Type', 'Manufacturer', 'Brand', 'Product Group', 'Model', 'Variation Attributes', 'Color', 'Size', 'Edition', 'Format', 'Author', 'Contributors', 'Binding', 'Languages', 'Hazardous Materials', 'Category']\n",
    "numeric_column_data = ['Sales Rank: Current', 'Amazon: 90 days OOS', 'New: 90 days OOS', 'Used: 90 days OOS', 'Sales Rank: 90 days avg.', 'Sales Rank: Drops last 90 days', 'Bought in past month','Reviews: Review Count', 'Buy Box 🚚: Current', 'Buy Box 🚚: 90 days avg.', 'Buy Box 🚚: Stock', 'Amazon: Current', 'Amazon: 90 days avg.', 'New: Current', 'New: 90 days avg.','New, 3rd Party FBA: Current','New: 90 days avg.','New, 3rd Party FBA: 90 days avg.', 'FBA Pick&Pack Fee', 'Referral Fee based on current Buy Box price', 'New, 3rd Party FBA: Current', 'New, 3rd Party FBA: 90 days avg.', 'New, Prime exclusive: Current', 'New, Prime exclusive: 90 days avg.', 'Lightning Deals: Current', 'Buy Box Used 🚚: Current', 'Buy Box Used 🚚: 90 days avg.', 'Used: Current', 'Used: 90 days avg.', 'Used, like new 🚚: Current', 'Used, like new 🚚: 90 days avg.', 'Used, very good 🚚: Current', 'Used, very good 🚚: 90 days avg.', 'Used, good 🚚: Current', 'Used, good 🚚: 90 days avg.', 'Used, acceptable 🚚: Current', 'Used, acceptable 🚚: 90 days avg.', 'Warehouse Deals: Current', 'Warehouse Deals: 90 days avg.', 'List Price: Current', 'List Price: 90 days avg.', 'Rental: Current', 'Rental: 90 days avg.', 'eBay New 🚚: Current', 'eBay New 🚚: 90 days avg.', 'eBay Used 🚚: Current', 'eBay Used 🚚: 90 days avg.', 'New Offer Count: Current', 'New Offer Count: 90 days avg.', 'Count of retrieved live offers: New, FBM', 'Used Offer Count: Current', 'Used Offer Count: 90 days avg.', 'Number of Items', 'Number of Pages', 'Package: Dimension (cm³)', 'Package: Weight (g)', 'Package: Quantity', 'Item: Dimension (cm³)', 'Item: Weight (g)', 'One Time Coupon: Absolute', 'One Time Coupon: Percentage', 'Absolute Rank', 'Variation ASIN Count']\n",
    "binary_column_data = ['Buy Box: Is FBA', 'Buy Box: Unqualified', 'Lightning Deals: Upcoming Deal', 'Buy Box Used: Is FBA', 'Categories: Launchpad', 'Adult Product', 'Trade-In Eligible', 'Prime Eligible (Buy Box)', 'Subscribe and Save']\n",
    "\n",
    "# Fill NA categorical data\n",
    "for column in categorical_column_data:\n",
    "    modified_data[column] = modified_data[column].fillna('Missing') \n",
    "\n",
    "# Encode categorical data (one hot encoding // high dimensionality)\n",
    "df_categorical_encoded = pd.get_dummies(modified_data, columns=categorical_column_data, dtype=int)\n",
    "\n",
    "#Convert from float to numeric for numeric data\n",
    "for column in numeric_column_data:\n",
    "    df_categorical_encoded[column] = pd.to_numeric(df_categorical_encoded[column], errors='coerce') \n",
    "    df_categorical_encoded[column].fillna(0)\n",
    "\n",
    "#Encoding binary data in column to 1/0\n",
    "for column in binary_column_data:\n",
    "    df_categorical_encoded[column] = df_categorical_encoded[column].map(lambda x: 1 if x == 'yes' else 0)\n",
    "\n",
    "#Encode Rating data\n",
    "df_categorical_encoded['Reviews: Rating'] = pd.to_numeric(df_categorical_encoded['Reviews: Rating'], errors='coerce')\n",
    "\n",
    "# Convert % data into numeric\n",
    "df_categorical_encoded['Referral Fee %'] = df_categorical_encoded['Referral Fee %'].str.replace('%', '').astype(float)\n",
    "df_categorical_encoded['Referral Fee %'] = df_categorical_encoded['Referral Fee %'].fillna(0)\n",
    "df_categorical_encoded['Referral Fee %'] = df_categorical_encoded['Referral Fee %'] /100\n",
    "\n",
    "# Convert % data into numeric\n",
    "df_categorical_encoded['Subscribe and Save Coupon: Percentage'] = df_categorical_encoded['Subscribe and Save Coupon: Percentage'].str.replace('%', '', regex=False)\n",
    "df_categorical_encoded['Subscribe and Save Coupon: Percentage'] = pd.to_numeric(df_categorical_encoded['Subscribe and Save Coupon: Percentage'], errors='coerce')\n",
    "df_categorical_encoded['Subscribe and Save Coupon: Percentage'] = df_categorical_encoded['Subscribe and Save Coupon: Percentage']/100\n",
    "df_categorical_encoded['Subscribe and Save Coupon: Percentage']= df_categorical_encoded['Subscribe and Save Coupon: Percentage'].fillna(0)\n",
    "\n",
    "# Convert % data into numeric\n",
    "df_categorical_encoded['Buy Box 🚚: 90 days OOS'] = df_categorical_encoded['Buy Box 🚚: 90 days OOS'].str.replace('%', '', regex=False)\n",
    "df_categorical_encoded['Buy Box 🚚: 90 days OOS'] = pd.to_numeric(df_categorical_encoded['Buy Box 🚚: 90 days OOS'], errors='coerce')\n",
    "df_categorical_encoded['Buy Box 🚚: 90 days OOS']= df_categorical_encoded['Buy Box 🚚: 90 days OOS'].fillna(0)\n",
    "\n",
    "# Encode Time Data\n",
    "time_column_data = ['Last Price Change', 'Tracking since', 'Listed since', 'Publication Date', 'Release Date']\n",
    "for column in time_column_data:\n",
    "    df_categorical_encoded = df_categorical_encoded.drop(column, axis=1)\n",
    "\n",
    " \n",
    "# Remove '$' signs from data\n",
    "for column in df_categorical_encoded.columns:\n",
    "    if df_categorical_encoded[column].dtype == object:\n",
    "        if df_categorical_encoded[column].str.contains('\\$', na=False).any():\n",
    "            print(f\"Column '{column}' contains a '$'\")\n",
    "            df_categorical_encoded[column] = df_categorical_encoded[column].str.replace('\\$', '', regex=True)\n",
    "\n",
    "\n",
    "\n",
    "final_data = df_categorical_encoded"
   ]
  },
  {
   "cell_type": "markdown",
   "metadata": {},
   "source": [
    "### Fill NA Values w/ Mean averages"
   ]
  },
  {
   "cell_type": "code",
   "execution_count": 9,
   "metadata": {
    "scrolled": true
   },
   "outputs": [
    {
     "name": "stdout",
     "output_type": "stream",
     "text": [
      "Sales Rank: Current\n",
      "Sales Rank: 90 days avg.\n",
      "Sales Rank: Drops last 90 days\n",
      "Bought in past month\n",
      "Reviews: Rating\n",
      "Reviews: Review Count\n",
      "Review Count - Format Specific\n",
      "Buy Box 🚚: Current\n",
      "Buy Box 🚚: 90 days avg.\n",
      "Buy Box 🚚: Stock\n",
      "Amazon: Current\n",
      "Amazon: 90 days avg.\n",
      "Amazon: 90 days OOS\n",
      "New: Current\n",
      "New: 90 days avg.\n",
      "New: 90 days OOS\n",
      "New, 3rd Party FBA: Current\n",
      "New, 3rd Party FBA: 90 days avg.\n",
      "FBA Pick&Pack Fee\n",
      "Referral Fee based on current Buy Box price\n",
      "New, 3rd Party FBM 🚚: Current\n",
      "New, 3rd Party FBM 🚚: 90 days avg.\n",
      "New, Prime exclusive: Current\n",
      "New, Prime exclusive: 90 days avg.\n",
      "Lightning Deals: Current\n",
      "Buy Box Used 🚚: Current\n",
      "Buy Box Used 🚚: 90 days avg.\n",
      "Used: Current\n",
      "Used: 90 days avg.\n",
      "Used: 90 days OOS\n",
      "Used, like new 🚚: Current\n",
      "Used, like new 🚚: 90 days avg.\n",
      "Used, very good 🚚: Current\n",
      "Used, very good 🚚: 90 days avg.\n",
      "Used, good 🚚: Current\n",
      "Used, good 🚚: 90 days avg.\n",
      "Used, acceptable 🚚: Current\n",
      "Used, acceptable 🚚: 90 days avg.\n",
      "Warehouse Deals: Current\n",
      "Warehouse Deals: 90 days avg.\n",
      "List Price: Current\n",
      "List Price: 90 days avg.\n",
      "Rental: Current\n",
      "Rental: 90 days avg.\n",
      "eBay New 🚚: Current\n",
      "eBay New 🚚: 90 days avg.\n",
      "eBay Used 🚚: Current\n",
      "eBay Used 🚚: 90 days avg.\n",
      "New Offer Count: Current\n",
      "New Offer Count: 90 days avg.\n",
      "Count of retrieved live offers: New, FBA\n",
      "Count of retrieved live offers: New, FBM\n",
      "Used Offer Count: Current\n",
      "Used Offer Count: 90 days avg.\n",
      "Number of Items\n",
      "Number of Pages\n",
      "Package: Dimension (cm³)\n",
      "Package: Weight (g)\n",
      "Package: Quantity\n",
      "Item: Dimension (cm³)\n",
      "Item: Weight (g)\n",
      "One Time Coupon: Absolute\n",
      "One Time Coupon: Percentage\n",
      "Absolute Rank\n"
     ]
    }
   ],
   "source": [
    "#Check for Final null data\n",
    "for column in final_data:\n",
    "    if final_data[column].isnull().any():\n",
    "        print(column)\n"
   ]
  },
  {
   "cell_type": "code",
   "execution_count": 28,
   "metadata": {},
   "outputs": [],
   "source": [
    "columns_to_fill = [\n",
    "    'Sales Rank: 90 days avg.', 'Sales Rank: Drops last 90 days', 'Bought in past month',\n",
    "    'Reviews: Rating', 'Reviews: Review Count', 'Ratings - Format Specific',\n",
    "    'Review Count - Format Specific', 'Buy Box 🚚: Current', 'Buy Box 🚚: 90 days avg.', 'Buy Box 🚚: Stock', \n",
    "    'Amazon: Current', 'Amazon: 90 days avg.', 'Amazon: 90 days OOS',\n",
    "    'New: Current', 'New: 90 days avg.', 'New: 90 days OOS', 'New, 3rd Party FBA: Current',\n",
    "    'New, 3rd Party FBA: 90 days avg.', 'FBA Pick&Pack Fee', 'Referral Fee based on current Buy Box price',\n",
    "    'New, 3rd Party FBM 🚚: Current', 'New, 3rd Party FBM 🚚: 90 days avg.', 'New, Prime exclusive: Current',\n",
    "    'New, Prime exclusive: 90 days avg.', 'Lightning Deals: Current', 'Buy Box Used 🚚: Current', 'Buy Box Used 🚚: 90 days avg.', 'Used: Current', 'Used: 90 days avg.', 'Used: 90 days OOS',\n",
    "    'Used, like new 🚚: Current', 'Used, like new 🚚: 90 days avg.', 'Used, very good 🚚: Current',\n",
    "    'Used, very good 🚚: 90 days avg.', 'Used, good 🚚: Current', 'Used, good 🚚: 90 days avg.',\n",
    "    'Used, acceptable 🚚: Current', 'Used, acceptable 🚚: 90 days avg.', 'Warehouse Deals: Current',\n",
    "    'Warehouse Deals: 90 days avg.', 'List Price: Current', 'List Price: 90 days avg.',\n",
    "    'Rental: Current', 'Rental: 90 days avg.', 'eBay New 🚚: Current', 'eBay New 🚚: 90 days avg.',\n",
    "    'eBay Used 🚚: Current', 'eBay Used 🚚: 90 days avg.', 'New Offer Count: Current',\n",
    "    'Count of retrieved live offers: New, FBA', 'Count of retrieved live offers: New, FBM',\n",
    "    'Used Offer Count: Current', 'Used Offer Count: 90 days avg.', 'Number of Items',\n",
    "    'Number of Pages', 'Package: Dimension (cm³)', 'Package: Weight (g)', 'Package: Quantity',\n",
    "    'Item: Dimension (cm³)', 'Item: Weight (g)', 'One Time Coupon: Absolute',\n",
    "    'One Time Coupon: Percentage', 'Absolute Rank'\n",
    "]\n",
    "\n",
    "# for column in columns_to_fill:\n",
    "#     if column in final_data.columns:\n",
    "#         if final_data[column].dtype == object:\n",
    "#             print(column)\n",
    "for column in columns_to_fill:\n",
    "    if column in final_data.columns:\n",
    "        final_data[column] = pd.to_numeric(final_data[column], errors='coerce')\n",
    "        column_mean = final_data[column].mean()\n",
    "        final_data[column] = final_data[column].fillna(0)\n",
    "    else:\n",
    "        print(f\"{column} not found in DataFrame.\")"
   ]
  },
  {
   "cell_type": "markdown",
   "metadata": {},
   "source": [
    "## Splitting and Training"
   ]
  },
  {
   "cell_type": "markdown",
   "metadata": {},
   "source": [
    "from sklearn.model_selection import train_test_split\n",
    "from sklearn.linear_model import LinearRegression\n",
    "from sklearn.metrics import mean_squared_error\n",
    "\n",
    "\n",
    "modified_data_testing = final_data.drop(['Title'], axis = 1)\n",
    "# Dropping title\n",
    "\n",
    "# Splitting Data\n",
    "X = modified_data_testing.drop('Sales Rank: Current', axis=1)  # Features\n",
    "y = modified_data_testing['Sales Rank: Current']  # Target variable\n",
    "X_train, X_test, y_train, y_test = train_test_split(X, y, test_size=0.2, random_state=42)\n",
    "\n",
    "from sklearn.impute import SimpleImputer\n",
    "X_train.replace([np.inf, -np.inf], np.nan, inplace=True)\n",
    "imputer = SimpleImputer(strategy='mean')  # or median, most_frequent, constant\n",
    "X_train_imputed = imputer.fit_transform(X_train)\n",
    "y_train_imputed = y_train  # Assuming y_train does not contain NaN values; otherwise, apply imputation as well\n",
    "# Replace inf with NaN and then impute or remove\n",
    "\n",
    "# Train Model\n",
    "model = LinearRegression()\n",
    "model.fit(X_train_imputed, y_train_imputed)\n",
    "predictions = model.predict(X_test)\n",
    "\n",
    "# MSE Error\n",
    "mse = mean_squared_error(y_test, predictions)\n",
    "print(f\"Mean Squared Error: {mse}\")"
   ]
  },
  {
   "cell_type": "markdown",
   "metadata": {},
   "source": [
    "## Scatter Plot - OLS"
   ]
  },
  {
   "cell_type": "markdown",
   "metadata": {},
   "source": [
    "import matplotlib.pyplot as plt\n",
    "import seaborn as sns\n",
    "\n",
    "plt.figure(figsize=(8, 6))\n",
    "plt.scatter(y_test, predictions, alpha=0.5)\n",
    "plt.xlabel('Actual Values')\n",
    "plt.ylabel('Predicted Values')\n",
    "plt.title('Actual vs. Predicted Values')\n",
    "plt.show()\n"
   ]
  },
  {
   "cell_type": "markdown",
   "metadata": {},
   "source": [
    "## Residual Plot - OLS"
   ]
  },
  {
   "cell_type": "markdown",
   "metadata": {},
   "source": [
    "residuals = y_test - predictions\n",
    "\n",
    "plt.figure(figsize=(8, 6))\n",
    "sns.residplot(x=predictions, y=residuals, lowess=True, line_kws={'color': 'red', 'lw': 1})\n",
    "plt.xlabel('Predicted Values')\n",
    "plt.ylabel('Residuals')\n",
    "plt.title('Residual Plot')\n",
    "plt.axhline(y=0, color='black', linestyle='--')\n",
    "plt.show()\n"
   ]
  },
  {
   "cell_type": "markdown",
   "metadata": {},
   "source": [
    "## Coefficient Plot - OLS"
   ]
  },
  {
   "cell_type": "markdown",
   "metadata": {},
   "source": [
    "do not run this"
   ]
  },
  {
   "cell_type": "markdown",
   "metadata": {},
   "source": [
    "feature_names = X_train.columns\n",
    "coefficients = model.coef_\n",
    "\n",
    "# Create a DataFrame for easier plotting\n",
    "coef_df = pd.DataFrame({'Feature': feature_names, 'Coefficient': coefficients})\n",
    "# Sort the DataFrame by the absolute value of the coefficients\n",
    "coef_df = coef_df.sort_values(by='Coefficient', key=abs, ascending=False)\n",
    "\n",
    "# Plotting\n",
    "plt.figure(figsize=(10, 8))\n",
    "sns.barplot(x='Coefficient', y='Feature', data=coef_df)\n",
    "plt.title('Feature Coefficients')\n",
    "plt.xlabel('Coefficient Value')\n",
    "plt.ylabel('Features')\n",
    "plt.show()\n"
   ]
  },
  {
   "cell_type": "markdown",
   "metadata": {},
   "source": [
    "# Lasso"
   ]
  },
  {
   "cell_type": "markdown",
   "metadata": {},
   "source": [
    "from sklearn.linear_model import Lasso\n",
    "\n",
    "lasso_model = Lasso(alpha=0.01)  \n",
    "\n",
    "lasso_model.fit(X_train, y_train)"
   ]
  },
  {
   "cell_type": "markdown",
   "metadata": {},
   "source": [
    "Lasso Predictions"
   ]
  },
  {
   "cell_type": "markdown",
   "metadata": {},
   "source": [
    "# Making predictions\n",
    "predictions_lasso = lasso_model.predict(X_test)\n",
    "\n",
    "# Calculating the Mean Squared Error (MSE)\n",
    "mse_lasso = mean_squared_error(y_test, predictions_lasso)\n",
    "print(f\"Mean Squared Error for Lasso Regression: {mse_lasso}\")\n"
   ]
  },
  {
   "cell_type": "markdown",
   "metadata": {},
   "source": [
    "Cross Validation for Lasso Alpha value"
   ]
  },
  {
   "cell_type": "markdown",
   "metadata": {},
   "source": [
    "from sklearn.linear_model import LassoCV\n",
    "\n",
    "# Initialize and fit the LassoCV to find the best alpha\n",
    "lasso_cv_model = LassoCV(alphas=None, cv=10, max_iter=10000)\n",
    "lasso_cv_model.fit(X_train, y_train)\n",
    "\n",
    "# Best alpha\n",
    "print(\"Best alpha using LassoCV: \", lasso_cv_model.alpha_)\n",
    "\n",
    "# You can now initialize a new Lasso model with this best alpha\n",
    "lasso_model_optimal = Lasso(alpha=lasso_cv_model.alpha_)\n",
    "lasso_model_optimal.fit(X_train, y_train)\n"
   ]
  },
  {
   "cell_type": "markdown",
   "metadata": {},
   "source": [
    "Lasso w/ Best Alpha"
   ]
  },
  {
   "cell_type": "markdown",
   "metadata": {},
   "source": [
    "lasso_model_best = Lasso(alpha=13545.149148283259)  \n",
    "\n",
    "lasso_model_best.fit(X_train, y_train)\n",
    "\n",
    "predictions_lasso_best = lasso_model_best.predict(X_test)\n",
    "\n",
    "# Calculating the Mean Squared Error (MSE)\n",
    "mse_lasso_best = mean_squared_error(y_test, predictions_lasso_best)\n",
    "print(f\"Mean Squared Error for Lasso Regression: {mse_lasso_best}\")\n"
   ]
  },
  {
   "cell_type": "code",
   "execution_count": 11,
   "metadata": {},
   "outputs": [
    {
     "name": "stderr",
     "output_type": "stream",
     "text": [
      "<ipython-input-11-76d941afcc1c>:8: PerformanceWarning: DataFrame is highly fragmented.  This is usually the result of calling `frame.insert` many times, which has poor performance.  Consider joining all columns at once using pd.concat(axis=1) instead. To get a de-fragmented frame, use `newframe = frame.copy()`\n",
      "  modified_data_testing['Log Sales Rank: Current'] = np.log(modified_data_testing['Sales Rank: Current'])\n"
     ]
    }
   ],
   "source": [
    "import pandas as pd\n",
    "import numpy as np\n",
    "from sklearn.model_selection import train_test_split\n",
    "\n",
    "modified_data_testing = final_data.drop(['Title'], axis = 1)\n",
    "\n",
    "# Log transformation of 'Sales Rank: Current'\n",
    "modified_data_testing['Log Sales Rank: Current'] = np.log(modified_data_testing['Sales Rank: Current'])\n",
    "\n",
    "# Define the columns of interest for the features (excluding 'Variation ASIN Count' as it was not found)\n",
    "columns_of_interest = ['Reviews: Rating', 'Reviews: Review Count', 'Buy Box: Is FBA', \n",
    "                       'Variation ASIN Count', 'FBA Pick&Pack Fee', 'New Offer Count: Current']\n",
    "\n",
    "# Drop rows with any NaN values in the specified features or target variable\n",
    "cleaned_data = modified_data_testing[columns_of_interest + ['Log Sales Rank: Current']].dropna()\n",
    "\n",
    "# Splitting the cleaned data into features (X) and target (y)\n",
    "X2 = cleaned_data[columns_of_interest]\n",
    "y2 = cleaned_data['Log Sales Rank: Current']\n",
    "\n",
    "# Splitting the data into training and testing sets\n",
    "X_train2, X_test2, y_train2, y_test2 = train_test_split(X2, y2, test_size=0.2, random_state=42)\n"
   ]
  },
  {
   "cell_type": "code",
   "execution_count": 14,
   "metadata": {},
   "outputs": [],
   "source": [
    "from sklearn.linear_model import LinearRegression\n",
    "# Initializing and training the linear regression model\n",
    "model = LinearRegression()\n",
    "model.fit(X_train2, y_train2)\n",
    "\n",
    "# Making predictions on the test set\n",
    "predictions2 = model.predict(X_test2)\n"
   ]
  },
  {
   "cell_type": "code",
   "execution_count": 18,
   "metadata": {},
   "outputs": [
    {
     "name": "stdout",
     "output_type": "stream",
     "text": [
      "Mean Squared Error: 0.7785819995361138\n"
     ]
    }
   ],
   "source": [
    "from sklearn.metrics import mean_squared_error\n",
    "# Calculating the Mean Squared Error (MSE) for model evaluation\n",
    "mse = mean_squared_error(y_test2, predictions2)\n",
    "print(f\"Mean Squared Error: {mse}\")\n"
   ]
  },
  {
   "cell_type": "code",
   "execution_count": 19,
   "metadata": {},
   "outputs": [
    {
     "data": {
      "image/png": "[encoded data removed]",
      "text/plain": [
       "<Figure size 576x432 with 1 Axes>"
      ]
     },
     "metadata": {
      "needs_background": "light"
     },
     "output_type": "display_data"
    }
   ],
   "source": [
    "import matplotlib.pyplot as plt\n",
    "import seaborn as sns\n",
    "\n",
    "plt.figure(figsize=(8, 6))\n",
    "plt.scatter(y_test2, predictions2, alpha=0.5)\n",
    "plt.xlabel('Actual Values')\n",
    "plt.ylabel('Predicted Values')\n",
    "plt.title('Actual vs. Predicted Values')\n",
    "plt.show()"
   ]
  },
  {
   "cell_type": "code",
   "execution_count": 20,
   "metadata": {},
   "outputs": [
    {
     "data": {
      "image/png": "[encoded data removed]",
      "text/plain": [
       "<Figure size 576x432 with 1 Axes>"
      ]
     },
     "metadata": {
      "needs_background": "light"
     },
     "output_type": "display_data"
    }
   ],
   "source": [
    "residuals2 = y_test2 - predictions2\n",
    "\n",
    "plt.figure(figsize=(8, 6))\n",
    "sns.residplot(x=predictions2, y=residuals2, lowess=True, line_kws={'color': 'red', 'lw': 1})\n",
    "plt.xlabel('Predicted Values')\n",
    "plt.ylabel('Residuals')\n",
    "plt.title('Residual Plot')\n",
    "plt.axhline(y=0, color='black', linestyle='--')\n",
    "plt.show()"
   ]
  },
  {
   "cell_type": "code",
   "execution_count": 22,
   "metadata": {},
   "outputs": [
    {
     "name": "stdout",
     "output_type": "stream",
     "text": [
      "Requirement already satisfied: numpy in /opt/anaconda3/lib/python3.8/site-packages (1.24.4)\n",
      "Note: you may need to restart the kernel to use updated packages.\n"
     ]
    }
   ],
   "source": [
    "pip install --upgrade numpy"
   ]
  },
  {
   "cell_type": "code",
   "execution_count": 23,
   "metadata": {},
   "outputs": [
    {
     "name": "stdout",
     "output_type": "stream",
     "text": [
      "Requirement already satisfied: statsmodels in /opt/anaconda3/lib/python3.8/site-packages (0.14.1)\n",
      "Requirement already satisfied: numpy<2,>=1.18 in /opt/anaconda3/lib/python3.8/site-packages (from statsmodels) (1.24.4)\n",
      "Requirement already satisfied: pandas!=2.1.0,>=1.0 in /opt/anaconda3/lib/python3.8/site-packages (from statsmodels) (2.0.3)\n",
      "Requirement already satisfied: patsy>=0.5.4 in /opt/anaconda3/lib/python3.8/site-packages (from statsmodels) (0.5.6)\n",
      "Requirement already satisfied: packaging>=21.3 in /opt/anaconda3/lib/python3.8/site-packages (from statsmodels) (23.2)\n",
      "Requirement already satisfied: scipy!=1.9.2,>=1.4 in /opt/anaconda3/lib/python3.8/site-packages (from statsmodels) (1.6.2)\n",
      "Requirement already satisfied: pytz>=2020.1 in /opt/anaconda3/lib/python3.8/site-packages (from pandas!=2.1.0,>=1.0->statsmodels) (2021.1)\n",
      "Requirement already satisfied: tzdata>=2022.1 in /opt/anaconda3/lib/python3.8/site-packages (from pandas!=2.1.0,>=1.0->statsmodels) (2023.3)\n",
      "Requirement already satisfied: python-dateutil>=2.8.2 in /opt/anaconda3/lib/python3.8/site-packages (from pandas!=2.1.0,>=1.0->statsmodels) (2.8.2)\n",
      "Requirement already satisfied: six in /opt/anaconda3/lib/python3.8/site-packages (from patsy>=0.5.4->statsmodels) (1.15.0)\n",
      "Collecting numpy<2,>=1.18\n",
      "  Using cached numpy-1.22.4-cp38-cp38-macosx_10_15_x86_64.whl (17.6 MB)\n",
      "Installing collected packages: numpy\n",
      "  Attempting uninstall: numpy\n",
      "    Found existing installation: numpy 1.24.4\n",
      "    Uninstalling numpy-1.24.4:\n",
      "      Successfully uninstalled numpy-1.24.4\n",
      "Successfully installed numpy-1.22.4\n",
      "Note: you may need to restart the kernel to use updated packages.\n"
     ]
    }
   ],
   "source": [
    "pip install --upgrade statsmodels"
   ]
  },
  {
   "cell_type": "code",
   "execution_count": 21,
   "metadata": {},
   "outputs": [
    {
     "name": "stdout",
     "output_type": "stream",
     "text": [
      "                               OLS Regression Results                              \n",
      "===================================================================================\n",
      "Dep. Variable:     Log Sales Rank: Current   R-squared:                       0.250\n",
      "Model:                                 OLS   Adj. R-squared:                  0.249\n",
      "Method:                      Least Squares   F-statistic:                     266.1\n",
      "Date:                     Thu, 15 Feb 2024   Prob (F-statistic):          3.96e-246\n",
      "Time:                             15:28:38   Log-Likelihood:                -5157.9\n",
      "No. Observations:                     3994   AIC:                         1.033e+04\n",
      "Df Residuals:                         3988   BIC:                         1.037e+04\n",
      "Df Model:                                5                                         \n",
      "Covariance Type:                 nonrobust                                         \n",
      "============================================================================================\n",
      "                               coef    std err          t      P>|t|      [0.025      0.975]\n",
      "--------------------------------------------------------------------------------------------\n",
      "const                        8.0035      0.158     50.784      0.000       7.695       8.312\n",
      "Reviews: Rating             -0.0273      0.034     -0.810      0.418      -0.093       0.039\n",
      "Reviews: Review Count    -2.449e-05   7.02e-07    -34.881      0.000   -2.59e-05   -2.31e-05\n",
      "Buy Box: Is FBA              0.0435      0.051      0.852      0.394      -0.057       0.144\n",
      "Variation ASIN Count        -0.0013      0.001     -1.277      0.202      -0.003       0.001\n",
      "FBA Pick&Pack Fee                 0          0        nan        nan           0           0\n",
      "New Offer Count: Current    -0.0102      0.002     -6.482      0.000      -0.013      -0.007\n",
      "==============================================================================\n",
      "Omnibus:                      996.125   Durbin-Watson:                   1.944\n",
      "Prob(Omnibus):                  0.000   Jarque-Bera (JB):             7094.643\n",
      "Skew:                          -0.998   Prob(JB):                         0.00\n",
      "Kurtosis:                       9.217   Cond. No.                          inf\n",
      "==============================================================================\n",
      "\n",
      "Notes:\n",
      "[1] Standard Errors assume that the covariance matrix of the errors is correctly specified.\n",
      "[2] The smallest eigenvalue is      0. This might indicate that there are\n",
      "strong multicollinearity problems or that the design matrix is singular.\n"
     ]
    },
    {
     "name": "stderr",
     "output_type": "stream",
     "text": [
      "/opt/anaconda3/lib/python3.8/site-packages/statsmodels/regression/linear_model.py:1966: RuntimeWarning: divide by zero encountered in scalar divide\n",
      "  return np.sqrt(eigvals[0]/eigvals[-1])\n"
     ]
    }
   ],
   "source": [
    "import statsmodels.api as sm\n",
    "import numpy as np\n",
    "\n",
    "# Add a constant to the features for the intercept\n",
    "X_train_sm = sm.add_constant(X_train2)\n",
    "\n",
    "# Fit the model\n",
    "model = sm.OLS(y_train2, X_train_sm).fit()\n",
    "\n",
    "# Print the summary\n",
    "print(model.summary())\n"
   ]
  },
  {
   "cell_type": "code",
   "execution_count": 24,
   "metadata": {
    "scrolled": true
   },
   "outputs": [
    {
     "name": "stdout",
     "output_type": "stream",
     "text": [
      "Optimal alpha value: 100.0\n",
      "Mean Squared Error with optimal alpha: 0.7785819995361138\n"
     ]
    }
   ],
   "source": [
    "from sklearn.linear_model import RidgeCV\n",
    "from sklearn.preprocessing import StandardScaler\n",
    "from sklearn.pipeline import make_pipeline\n",
    "\n",
    "# Assuming X_train, y_train are already defined\n",
    "\n",
    "# Create a RidgeCV model with multiple alpha values to choose from\n",
    "alphas = [0.1, 1.0, 10.0, 100.0]  # Example alpha values\n",
    "ridge_cv_model = make_pipeline(StandardScaler(), RidgeCV(alphas=alphas, store_cv_values=True))\n",
    "\n",
    "# Fit the model\n",
    "ridge_cv_model.fit(X_train2, y_train2)\n",
    "\n",
    "# Optimal alpha value\n",
    "optimal_alpha = ridge_cv_model.named_steps['ridgecv'].alpha_\n",
    "print(f\"Optimal alpha value: {optimal_alpha}\")\n",
    "\n",
    "# Predict and evaluate\n",
    "predictions = ridge_cv_model.predict(X_test2)\n",
    "mse = mean_squared_error(y_test2, predictions2)\n",
    "print(f\"Mean Squared Error with optimal alpha: {mse}\")"
   ]
  },
  {
   "cell_type": "code",
   "execution_count": 25,
   "metadata": {},
   "outputs": [
    {
     "name": "stdout",
     "output_type": "stream",
     "text": [
      "                    Feature         VIF\n",
      "0                     const  131.290729\n",
      "1           Reviews: Rating    1.023460\n",
      "2     Reviews: Review Count    1.107708\n",
      "3           Buy Box: Is FBA    1.038841\n",
      "4      Bought in past month    1.173377\n",
      "5         FBA Pick&Pack Fee         NaN\n",
      "6  New Offer Count: Current    1.079405\n",
      "7      Variation ASIN Count    1.043746\n"
     ]
    },
    {
     "name": "stderr",
     "output_type": "stream",
     "text": [
      "/opt/anaconda3/lib/python3.8/site-packages/statsmodels/regression/linear_model.py:1782: RuntimeWarning: invalid value encountered in scalar divide\n",
      "  return 1 - self.ssr/self.centered_tss\n"
     ]
    }
   ],
   "source": [
    "import pandas as pd\n",
    "from statsmodels.stats.outliers_influence import variance_inflation_factor\n",
    "from statsmodels.tools.tools import add_constant\n",
    "\n",
    "# Assuming 'X' is already defined from your previous code\n",
    "X = modified_data_testing[['Reviews: Rating', 'Reviews: Review Count', 'Buy Box: Is FBA', \n",
    "                            \"Bought in past month\", 'FBA Pick&Pack Fee', 'New Offer Count: Current', 'Variation ASIN Count']]\n",
    "\n",
    "# It's important to add a constant term for the intercept for VIF calculation\n",
    "X_with_constant = add_constant(X)\n",
    "\n",
    "# Calculate VIF for each feature\n",
    "vif_data = pd.DataFrame()\n",
    "vif_data[\"Feature\"] = X_with_constant.columns\n",
    "vif_data[\"VIF\"] = [variance_inflation_factor(X_with_constant.values, i) for i in range(X_with_constant.shape[1])]\n",
    "\n",
    "print(vif_data)"
   ]
  },
  {
   "cell_type": "code",
   "execution_count": 34,
   "metadata": {},
   "outputs": [],
   "source": [
    "# Assuming 'final_data' is your current dataset\n",
    "current_asins = set(modified_data['ASIN'])  # This creates a set of unique ASINs from your current dataset"
   ]
  },
  {
   "cell_type": "code",
   "execution_count": 35,
   "metadata": {},
   "outputs": [],
   "source": [
    "# Load your new dataset\n",
    "new_data = pd.read_csv('Keepa Jan 2024.csv')  # Adjust the path as necessary\n",
    "\n",
    "# Filter the new dataset to only include ASINs that are in both datasets\n",
    "filtered_new_dataJan = new_data[new_data['ASIN'].isin(current_asins)]\n"
   ]
  },
  {
   "cell_type": "code",
   "execution_count": 48,
   "metadata": {},
   "outputs": [],
   "source": [
    "pd.set_option('display.max_columns', None)\n",
    "pd.set_option('display.max_rows', None)\n",
    "\n",
    "#Parsing Sales rank\n",
    "def parse_sales_rank(row):\n",
    "    if isinstance(row, str):\n",
    "        parts = row.split('|')\n",
    "        absolute_rank = parts[0].strip()\n",
    "        top_1_percent = parts[1].strip()\n",
    "\n",
    "        category_part = parts[-1].strip()\n",
    "        category = category_part.split(';')[0].strip()\n",
    "\n",
    "        return pd.Series([absolute_rank, top_1_percent, category])\n",
    "    else:\n",
    "        return pd.Series([None,None,None])\n",
    "\n",
    "#S Split Subcategory sales rank for processing\n",
    "new_columnsJan = new_data['Sales Rank: Subcategory Sales Ranks'].apply(parse_sales_rank)\n",
    "new_columnsJan.columns = ['Absolute Rank', 'Top 1 Percent', 'Category']\n",
    "filtered_new_dataJan = pd.concat([filtered_new_dataJan, new_columns], axis=1)\n",
    "\n",
    "\n",
    "# Rempve unnessesary data\n",
    "filtered_new_dataJan = filtered_new_dataJan.drop(['Sales Rank: Subcategory Sales Ranks'], axis =1)\n",
    "filtered_new_dataJan = filtered_new_dataJan.drop(['Sales Rank: Reference'], axis =1)\n",
    "filtered_new_dataJan = filtered_new_dataJan.drop(['Top 1 Percent'], axis =1)\n",
    "\n",
    "# Convert Absolute Rank into numeric\n",
    "filtered_new_dataJan['Absolute Rank'] = filtered_new_dataJan['Absolute Rank'].str.strip('# ')\n",
    "filtered_new_dataJan['Absolute Rank'] = pd.to_numeric(filtered_new_dataJan['Absolute Rank'],errors='coerce')\n",
    "\n",
    "#Count Variation ASIN\n",
    "filtered_new_dataJan['Variation ASINs'] = filtered_new_dataJan['Variation ASINs'].fillna(\"\")\n",
    "filtered_new_dataJan['Variation ASIN Count'] = filtered_new_dataJan['Variation ASINs'].apply(lambda x: len(x.split(',')))"
   ]
  },
  {
   "cell_type": "code",
   "execution_count": 49,
   "metadata": {},
   "outputs": [
    {
     "name": "stdout",
     "output_type": "stream",
     "text": [
      "Column 'New, 3rd Party FBM 🚚: Current' contains a '$'\n",
      "Column 'New, 3rd Party FBM 🚚: 90 days avg.' contains a '$'\n"
     ]
    }
   ],
   "source": [
    "import statsmodels\n",
    "\n",
    "# Categorizing Data\n",
    "categorical_column_data = ['Buy Box Seller', 'Buy Box Used Seller', 'Buy Box Used: Condition', 'Categories: Root', 'Categories: Sub', 'Categories: Tree', 'ASIN', 'Product Codes: EAN', 'Product Codes: UPC', 'Product Codes: PartNumber', 'Parent ASIN', 'Variation ASINs', 'Freq. Bought Together', 'Type', 'Manufacturer', 'Brand', 'Product Group', 'Model', 'Variation Attributes', 'Color', 'Size', 'Edition', 'Format', 'Author', 'Contributors', 'Binding', 'Languages', 'Hazardous Materials', 'Category']\n",
    "numeric_column_data = ['Sales Rank: Current', 'Amazon: 90 days OOS', 'New: 90 days OOS', 'Used: 90 days OOS', 'Sales Rank: 90 days avg.', 'Sales Rank: Drops last 90 days', 'Bought in past month','Reviews: Review Count', 'Buy Box 🚚: Current', 'Buy Box 🚚: 90 days avg.', 'Buy Box 🚚: Stock', 'Amazon: Current', 'Amazon: 90 days avg.', 'New: Current', 'New: 90 days avg.','New, 3rd Party FBA: Current','New: 90 days avg.','New, 3rd Party FBA: 90 days avg.', 'FBA Pick&Pack Fee', 'Referral Fee based on current Buy Box price', 'New, 3rd Party FBA: Current', 'New, 3rd Party FBA: 90 days avg.', 'New, Prime exclusive: Current', 'New, Prime exclusive: 90 days avg.', 'Lightning Deals: Current', 'Buy Box Used 🚚: Current', 'Buy Box Used 🚚: 90 days avg.', 'Used: Current', 'Used: 90 days avg.', 'Used, like new 🚚: Current', 'Used, like new 🚚: 90 days avg.', 'Used, very good 🚚: Current', 'Used, very good 🚚: 90 days avg.', 'Used, good 🚚: Current', 'Used, good 🚚: 90 days avg.', 'Used, acceptable 🚚: Current', 'Used, acceptable 🚚: 90 days avg.', 'Warehouse Deals: Current', 'Warehouse Deals: 90 days avg.', 'List Price: Current', 'List Price: 90 days avg.', 'Rental: Current', 'Rental: 90 days avg.', 'eBay New 🚚: Current', 'eBay New 🚚: 90 days avg.', 'eBay Used 🚚: Current', 'eBay Used 🚚: 90 days avg.', 'New Offer Count: Current', 'New Offer Count: 90 days avg.', 'Count of retrieved live offers: New, FBM', 'Used Offer Count: Current', 'Used Offer Count: 90 days avg.', 'Number of Items', 'Number of Pages', 'Package: Dimension (cm³)', 'Package: Weight (g)', 'Package: Quantity', 'Item: Dimension (cm³)', 'Item: Weight (g)', 'One Time Coupon: Absolute', 'One Time Coupon: Percentage', 'Absolute Rank', 'Variation ASIN Count']\n",
    "binary_column_data = ['Buy Box: Is FBA', 'Buy Box: Unqualified', 'Lightning Deals: Upcoming Deal', 'Buy Box Used: Is FBA', 'Categories: Launchpad', 'Adult Product', 'Trade-In Eligible', 'Prime Eligible (Buy Box)', 'Subscribe and Save']\n",
    "\n",
    "# Fill NA categorical data\n",
    "for column in categorical_column_data:\n",
    "    filtered_new_dataJan[column] = filtered_new_dataJan[column].fillna('Missing') \n",
    "\n",
    "# Encode categorical data (one hot encoding // high dimensionality)\n",
    "df_categorical_encoded = pd.get_dummies(filtered_new_dataJan, columns=categorical_column_data, dtype=int)\n",
    "\n",
    "#Convert from float to numeric for numeric data\n",
    "for column in numeric_column_data:\n",
    "    df_categorical_encoded[column] = pd.to_numeric(df_categorical_encoded[column], errors='coerce') \n",
    "    df_categorical_encoded[column].fillna(0)\n",
    "\n",
    "#Encoding binary data in column to 1/0\n",
    "for column in binary_column_data:\n",
    "    df_categorical_encoded[column] = df_categorical_encoded[column].map(lambda x: 1 if x == 'yes' else 0)\n",
    "\n",
    "#Encode Rating data\n",
    "df_categorical_encoded['Reviews: Rating'] = pd.to_numeric(df_categorical_encoded['Reviews: Rating'], errors='coerce')\n",
    "\n",
    "# Convert % data into numeric\n",
    "df_categorical_encoded['Referral Fee %'] = df_categorical_encoded['Referral Fee %'].str.replace('%', '').astype(float)\n",
    "df_categorical_encoded['Referral Fee %'] = df_categorical_encoded['Referral Fee %'].fillna(0)\n",
    "df_categorical_encoded['Referral Fee %'] = df_categorical_encoded['Referral Fee %'] /100\n",
    "\n",
    "# Convert % data into numeric\n",
    "df_categorical_encoded['Subscribe and Save Coupon: Percentage'] = df_categorical_encoded['Subscribe and Save Coupon: Percentage'].str.replace('%', '', regex=False)\n",
    "df_categorical_encoded['Subscribe and Save Coupon: Percentage'] = pd.to_numeric(df_categorical_encoded['Subscribe and Save Coupon: Percentage'], errors='coerce')\n",
    "df_categorical_encoded['Subscribe and Save Coupon: Percentage'] = df_categorical_encoded['Subscribe and Save Coupon: Percentage']/100\n",
    "df_categorical_encoded['Subscribe and Save Coupon: Percentage']= df_categorical_encoded['Subscribe and Save Coupon: Percentage'].fillna(0)\n",
    "\n",
    "# Convert % data into numeric\n",
    "df_categorical_encoded['Buy Box 🚚: 90 days OOS'] = df_categorical_encoded['Buy Box 🚚: 90 days OOS'].str.replace('%', '', regex=False)\n",
    "df_categorical_encoded['Buy Box 🚚: 90 days OOS'] = pd.to_numeric(df_categorical_encoded['Buy Box 🚚: 90 days OOS'], errors='coerce')\n",
    "df_categorical_encoded['Buy Box 🚚: 90 days OOS']= df_categorical_encoded['Buy Box 🚚: 90 days OOS'].fillna(0)\n",
    "\n",
    "# Encode Time Data\n",
    "time_column_data = ['Last Price Change', 'Tracking since', 'Listed since', 'Publication Date', 'Release Date']\n",
    "for column in time_column_data:\n",
    "    df_categorical_encoded = df_categorical_encoded.drop(column, axis=1)\n",
    "\n",
    " \n",
    "# Remove '$' signs from data\n",
    "for column in df_categorical_encoded.columns:\n",
    "    if df_categorical_encoded[column].dtype == object:\n",
    "        if df_categorical_encoded[column].str.contains('\\$', na=False).any():\n",
    "            print(f\"Column '{column}' contains a '$'\")\n",
    "            df_categorical_encoded[column] = df_categorical_encoded[column].str.replace('\\$', '', regex=True)\n",
    "\n",
    "\n",
    "\n",
    "final_dataJan = df_categorical_encoded"
   ]
  },
  {
   "cell_type": "code",
   "execution_count": 51,
   "metadata": {},
   "outputs": [],
   "source": [
    "columns_to_fill = [\n",
    "    'Sales Rank: 90 days avg.', 'Sales Rank: Drops last 90 days', 'Bought in past month',\n",
    "    'Reviews: Rating', 'Reviews: Review Count', 'Ratings - Format Specific',\n",
    "    'Review Count - Format Specific', 'Buy Box 🚚: Current', 'Buy Box 🚚: 90 days avg.', 'Buy Box 🚚: Stock', \n",
    "    'Amazon: Current', 'Amazon: 90 days avg.', 'Amazon: 90 days OOS',\n",
    "    'New: Current', 'New: 90 days avg.', 'New: 90 days OOS', 'New, 3rd Party FBA: Current',\n",
    "    'New, 3rd Party FBA: 90 days avg.', 'FBA Pick&Pack Fee', 'Referral Fee based on current Buy Box price',\n",
    "    'New, 3rd Party FBM 🚚: Current', 'New, 3rd Party FBM 🚚: 90 days avg.', 'New, Prime exclusive: Current',\n",
    "    'New, Prime exclusive: 90 days avg.', 'Lightning Deals: Current', 'Buy Box Used 🚚: Current', 'Buy Box Used 🚚: 90 days avg.', 'Used: Current', 'Used: 90 days avg.', 'Used: 90 days OOS',\n",
    "    'Used, like new 🚚: Current', 'Used, like new 🚚: 90 days avg.', 'Used, very good 🚚: Current',\n",
    "    'Used, very good 🚚: 90 days avg.', 'Used, good 🚚: Current', 'Used, good 🚚: 90 days avg.',\n",
    "    'Used, acceptable 🚚: Current', 'Used, acceptable 🚚: 90 days avg.', 'Warehouse Deals: Current',\n",
    "    'Warehouse Deals: 90 days avg.', 'List Price: Current', 'List Price: 90 days avg.',\n",
    "    'Rental: Current', 'Rental: 90 days avg.', 'eBay New 🚚: Current', 'eBay New 🚚: 90 days avg.',\n",
    "    'eBay Used 🚚: Current', 'eBay Used 🚚: 90 days avg.', 'New Offer Count: Current',\n",
    "    'Count of retrieved live offers: New, FBA', 'Count of retrieved live offers: New, FBM',\n",
    "    'Used Offer Count: Current', 'Used Offer Count: 90 days avg.', 'Number of Items',\n",
    "    'Number of Pages', 'Package: Dimension (cm³)', 'Package: Weight (g)', 'Package: Quantity',\n",
    "    'Item: Dimension (cm³)', 'Item: Weight (g)', 'One Time Coupon: Absolute',\n",
    "    'One Time Coupon: Percentage', 'Absolute Rank'\n",
    "]\n",
    "\n",
    "# for column in columns_to_fill:\n",
    "#     if column in final_data.columns:\n",
    "#         if final_data[column].dtype == object:\n",
    "#             print(column)\n",
    "for column in columns_to_fill:\n",
    "    if column in final_dataJan.columns:\n",
    "        final_dataJan[column] = pd.to_numeric(final_dataJan[column], errors='coerce')\n",
    "        column_mean = final_dataJan[column].mean()\n",
    "        final_dataJan[column] = final_dataJan[column].fillna(0)\n",
    "    else:\n",
    "        print(f\"{column} not found in DataFrame.\")"
   ]
  },
  {
   "cell_type": "code",
   "execution_count": 52,
   "metadata": {},
   "outputs": [
    {
     "name": "stderr",
     "output_type": "stream",
     "text": [
      "<ipython-input-52-941a6a4f29c6>:2: PerformanceWarning: DataFrame is highly fragmented.  This is usually the result of calling `frame.insert` many times, which has poor performance.  Consider joining all columns at once using pd.concat(axis=1) instead. To get a de-fragmented frame, use `newframe = frame.copy()`\n",
      "  modified_new_dataJan['Log Sales Rank: Current'] = np.log(modified_new_dataJan['Sales Rank: Current'])\n"
     ]
    }
   ],
   "source": [
    "modified_new_dataJan = final_dataJan.drop(['Title'], axis=1)\n",
    "modified_new_dataJan['Log Sales Rank: Current'] = np.log(modified_new_dataJan['Sales Rank: Current'])\n",
    "\n",
    "# Assuming 'columns_of_interest' remains the same, otherwise adjust as needed\n",
    "cleaned_new_dataJan = modified_new_dataJan[columns_of_interest + ['Log Sales Rank: Current']].dropna()\n",
    "\n",
    "# Splitting the cleaned new data into features (X) and target (y)\n",
    "X_newJan = cleaned_new_dataJan[columns_of_interest]\n",
    "y_newJan = cleaned_new_dataJan['Log Sales Rank: Current']\n",
    "\n",
    "# Splitting the data into training and testing sets for the new dataset\n",
    "X_train_newJan, X_test_newJan, y_train_newJan, y_test_newJan = train_test_split(X_newJan, y_newJan, test_size=0.2, random_state=42)\n"
   ]
  },
  {
   "cell_type": "code",
   "execution_count": 54,
   "metadata": {},
   "outputs": [
    {
     "name": "stdout",
     "output_type": "stream",
     "text": [
      "Mean Squared Error on New Dataset: 0.9165138096596899\n"
     ]
    }
   ],
   "source": [
    "from sklearn.linear_model import LinearRegression\n",
    "from sklearn.metrics import mean_squared_error\n",
    "\n",
    "# Train the model on the new dataset\n",
    "model_newJan = LinearRegression()\n",
    "model_newJan.fit(X_train_newJan, y_train_newJan)\n",
    "\n",
    "# Predictions and evaluation on the new dataset\n",
    "predictions_newJan = model_newJan.predict(X_test_newJan)\n",
    "mse_newJan = mean_squared_error(y_test_newJan, predictions_newJan)\n",
    "print(f\"Mean Squared Error on New Dataset: {mse_newJan}\")\n"
   ]
  },
  {
   "cell_type": "code",
   "execution_count": 55,
   "metadata": {},
   "outputs": [
    {
     "name": "stdout",
     "output_type": "stream",
     "text": [
      "                               OLS Regression Results                              \n",
      "===================================================================================\n",
      "Dep. Variable:     Log Sales Rank: Current   R-squared:                       0.268\n",
      "Model:                                 OLS   Adj. R-squared:                  0.266\n",
      "Method:                      Least Squares   F-statistic:                     128.4\n",
      "Date:                     Thu, 15 Feb 2024   Prob (F-statistic):          4.23e-116\n",
      "Time:                             16:13:16   Log-Likelihood:                -2415.8\n",
      "No. Observations:                     1760   AIC:                             4844.\n",
      "Df Residuals:                         1754   BIC:                             4876.\n",
      "Df Model:                                5                                         \n",
      "Covariance Type:                 nonrobust                                         \n",
      "============================================================================================\n",
      "                               coef    std err          t      P>|t|      [0.025      0.975]\n",
      "--------------------------------------------------------------------------------------------\n",
      "const                       10.7707      0.285     37.814      0.000      10.212      11.329\n",
      "Reviews: Rating             -0.5765      0.059     -9.817      0.000      -0.692      -0.461\n",
      "Reviews: Review Count    -2.221e-05    1.1e-06    -20.147      0.000   -2.44e-05      -2e-05\n",
      "Buy Box: Is FBA             -0.1776      0.112     -1.581      0.114      -0.398       0.043\n",
      "Variation ASIN Count        -0.0434      0.006     -6.927      0.000      -0.056      -0.031\n",
      "FBA Pick&Pack Fee                 0          0        nan        nan           0           0\n",
      "New Offer Count: Current    -0.0073      0.002     -3.256      0.001      -0.012      -0.003\n",
      "==============================================================================\n",
      "Omnibus:                      220.494   Durbin-Watson:                   2.028\n",
      "Prob(Omnibus):                  0.000   Jarque-Bera (JB):             2302.584\n",
      "Skew:                           0.081   Prob(JB):                         0.00\n",
      "Kurtosis:                       8.601   Cond. No.                          inf\n",
      "==============================================================================\n",
      "\n",
      "Notes:\n",
      "[1] Standard Errors assume that the covariance matrix of the errors is correctly specified.\n",
      "[2] The smallest eigenvalue is      0. This might indicate that there are\n",
      "strong multicollinearity problems or that the design matrix is singular.\n"
     ]
    },
    {
     "name": "stderr",
     "output_type": "stream",
     "text": [
      "/opt/anaconda3/lib/python3.8/site-packages/statsmodels/regression/linear_model.py:1966: RuntimeWarning: divide by zero encountered in scalar divide\n",
      "  return np.sqrt(eigvals[0]/eigvals[-1])\n"
     ]
    }
   ],
   "source": [
    "import statsmodels.api as sm\n",
    "import numpy as np\n",
    "\n",
    "# Add a constant to the features for the intercept\n",
    "X_train_sm_Jan = sm.add_constant(X_train_newJan)\n",
    "\n",
    "# Fit the model\n",
    "modelJan = sm.OLS(y_train_newJan, X_train_sm_Jan).fit()\n",
    "\n",
    "# Print the summary\n",
    "print(modelJan.summary())\n"
   ]
  },
  {
   "cell_type": "code",
   "execution_count": 130,
   "metadata": {},
   "outputs": [],
   "source": [
    "# Load your new dataset\n",
    "new_data2 = pd.read_csv('Keepa Dec 2023.csv')  # Adjust the path as necessary\n",
    "\n",
    "# Filter the new dataset to only include ASINs that are in both datasets\n",
    "filtered_new_dataDec1 = new_data2[new_data2['ASIN'].isin(current_asins)]\n"
   ]
  },
  {
   "cell_type": "code",
   "execution_count": 131,
   "metadata": {},
   "outputs": [],
   "source": [
    "filtered_new_dataDec = filtered_new_dataDec1.drop(['Locale', 'Image'], axis =1)\n",
    "pd.set_option('display.max_columns', None)\n",
    "pd.set_option('display.max_rows', None)\n",
    "\n",
    "#Parsing Sales rank\n",
    "def parse_sales_rank(row):\n",
    "    if isinstance(row, str):\n",
    "        parts = row.split('|')\n",
    "        absolute_rank = parts[0].strip()\n",
    "        top_1_percent = parts[1].strip()\n",
    "\n",
    "        category_part = parts[-1].strip()\n",
    "        category = category_part.split(';')[0].strip()\n",
    "\n",
    "        return pd.Series([absolute_rank, top_1_percent, category])\n",
    "    else:\n",
    "        return pd.Series([None,None,None])\n",
    "    \n",
    "#Count Variation ASIN\n",
    "filtered_new_dataDec['Variation ASINs'] = filtered_new_dataDec['Variation ASINs'].fillna(\"\")\n",
    "filtered_new_dataDec['Variation ASIN Count'] = filtered_new_dataDec['Variation ASINs'].apply(lambda x: len(x.split(',')))"
   ]
  },
  {
   "cell_type": "code",
   "execution_count": 98,
   "metadata": {},
   "outputs": [
    {
     "name": "stdout",
     "output_type": "stream",
     "text": [
      "Requirement already satisfied: pandas in /opt/anaconda3/lib/python3.8/site-packages (2.0.3)\n",
      "Requirement already satisfied: python-dateutil>=2.8.2 in /opt/anaconda3/lib/python3.8/site-packages (from pandas) (2.8.2)\n",
      "Requirement already satisfied: numpy>=1.20.3 in /opt/anaconda3/lib/python3.8/site-packages (from pandas) (1.22.4)\n",
      "Requirement already satisfied: pytz>=2020.1 in /opt/anaconda3/lib/python3.8/site-packages (from pandas) (2021.1)\n",
      "Requirement already satisfied: tzdata>=2022.1 in /opt/anaconda3/lib/python3.8/site-packages (from pandas) (2023.3)\n",
      "Requirement already satisfied: six>=1.5 in /opt/anaconda3/lib/python3.8/site-packages (from python-dateutil>=2.8.2->pandas) (1.15.0)\n"
     ]
    }
   ],
   "source": [
    "!pip install --upgrade pandas"
   ]
  },
  {
   "cell_type": "code",
   "execution_count": 132,
   "metadata": {},
   "outputs": [],
   "source": [
    "import pandas as pd\n",
    "import numpy as np\n",
    "\n",
    "# Assuming df_encoded is your DataFrame\n",
    "\n",
    "# List of variables you need\n",
    "required_columns = [\n",
    "    'Reviews: Rating', 'Reviews: Review Count', 'Buy Box: Is FBA', \n",
    "    'Bought in past month', 'FBA Pick&Pack Fee', 'New Offer Count: Current', \n",
    "    'Variation ASIN Count', 'Sales Rank: Current'\n",
    "]\n",
    "\n",
    "# Focus only on required columns for simplicity\n",
    "df_model = df_encoded[required_columns].copy()\n",
    "\n",
    "# Handling missing values - Assuming you want to fill numeric NAs with 0\n",
    "# and categorical/binary with a placeholder or most common category\n",
    "df_model['Buy Box: Is FBA'] = df_model['Buy Box: Is FBA'].fillna('Missing')  # Or another strategy as per your data understanding\n",
    "df_model.fillna(0, inplace=True)  # For numeric columns\n",
    "\n",
    "# Encoding binary variable 'Buy Box: Is FBA' if it's not already numeric\n",
    "if df_model['Buy Box: Is FBA'].dtype == object:\n",
    "    df_model['Buy Box: Is FBA'] = df_model['Buy Box: Is FBA'].map({'yes': 1, 'no': 0, 'Missing': -1}).astype(int)\n",
    "\n",
    "# Ensuring all other numeric variables are in correct numeric format\n",
    "# This step is crucial if your data has numbers stored as strings, possibly with '$' signs or commas\n",
    "numeric_columns = ['Reviews: Rating', 'Reviews: Review Count', 'Bought in past month', \n",
    "                   'FBA Pick&Pack Fee', 'New Offer Count: Current', 'Variation ASIN Count', 'Sales Rank: Current']\n",
    "\n",
    "for column in numeric_columns:\n",
    "    # Removing potential formatting characters\n",
    "    df_model[column] = df_model[column].astype(str).str.replace('[\\$,]', '', regex=True)\n",
    "    df_model[column] = pd.to_numeric(df_model[column], errors='coerce')\n",
    "\n",
    "# Fill any conversion issues with 0 or another placeholder\n",
    "df_model.fillna(0, inplace=True)\n",
    "\n",
    "modified_new_dataDec=df_model"
   ]
  },
  {
   "cell_type": "code",
   "execution_count": 133,
   "metadata": {},
   "outputs": [
    {
     "name": "stderr",
     "output_type": "stream",
     "text": [
      "/opt/anaconda3/lib/python3.8/site-packages/pandas/core/arraylike.py:396: RuntimeWarning: divide by zero encountered in log\n",
      "  result = getattr(ufunc, method)(*inputs, **kwargs)\n"
     ]
    }
   ],
   "source": [
    "modified_new_dataDec['Log Sales Rank: Current'] = np.log(modified_new_dataDec['Sales Rank: Current'])\n",
    "\n",
    "# Assuming 'columns_of_interest' remains the same, otherwise adjust as needed\n",
    "cleaned_new_dataDec = modified_new_dataDec[columns_of_interest + ['Log Sales Rank: Current']].dropna()\n",
    "\n",
    "# Splitting the cleaned new data into features (X) and target (y)\n",
    "X_newDec = cleaned_new_dataDec[columns_of_interest]\n",
    "y_newDec = cleaned_new_dataDec['Log Sales Rank: Current']\n",
    "\n",
    "# Splitting the data into training and testing sets for the new dataset\n",
    "X_train_newDec, X_test_newDec, y_train_newDec, y_test_newDec = train_test_split(X_newDec, y_newDec, test_size=0.2, random_state=42)"
   ]
  },
  {
   "cell_type": "code",
   "execution_count": 145,
   "metadata": {},
   "outputs": [],
   "source": [
    "X_train_newDec = X_train_newDec.fillna(X_train_newDec.mean())\n",
    "y_test_newDec = y_test_newDec.fillna(y_test_newDec.mean()) "
   ]
  },
  {
   "cell_type": "code",
   "execution_count": 148,
   "metadata": {},
   "outputs": [],
   "source": [
    "# Replacing infinity with NaNs for imputation in features\n",
    "X_train_newDec.replace([np.inf, -np.inf], np.nan, inplace=True)\n",
    "X_train_newDec.fillna(X_train_newDec.mean(), inplace=True)\n",
    "\n",
    "# Assuming y_train_newDec is a Series; if it has potential infinity values:\n",
    "y_test_newDec.replace([np.inf, -np.inf], np.nan, inplace=True)\n",
    "y_test_newDec.fillna(y_test_newDec.mean(), inplace=True)"
   ]
  },
  {
   "cell_type": "code",
   "execution_count": 152,
   "metadata": {},
   "outputs": [],
   "source": [
    "# Replacing infinity with NaNs for imputation in features\n",
    "X_train_newDec.replace([np.inf, -np.inf], np.nan, inplace=True)\n",
    "X_train_newDec.fillna(X_train_newDec.mean(), inplace=True)\n",
    "\n",
    "# Assuming y_train_newDec is a Series; if it has potential infinity values:\n",
    "y_train_newDec.replace([np.inf, -np.inf], np.nan, inplace=True)\n",
    "y_train_newDec.fillna(y_train_newDec.mean(), inplace=True)"
   ]
  },
  {
   "cell_type": "code",
   "execution_count": 153,
   "metadata": {},
   "outputs": [
    {
     "name": "stdout",
     "output_type": "stream",
     "text": [
      "0 NaNs in X_train_newDec\n",
      "0 NaNs in y_train_newDec\n",
      "0 Infinities in X_train_newDec\n",
      "0 Infinities in y_test_newDec\n"
     ]
    }
   ],
   "source": [
    "# Check for NaNs again\n",
    "print(X_test_newDec.isnull().sum().sum(), \"NaNs in X_train_newDec\")\n",
    "print(y_test_newDec.isnull().sum(), \"NaNs in y_train_newDec\")\n",
    "\n",
    "# Check for infinity\n",
    "print(np.isinf(X_test_newDec.values).sum(), \"Infinities in X_train_newDec\")\n",
    "print(np.isinf(y_train_newDec.values).sum(), \"Infinities in y_test_newDec\")"
   ]
  },
  {
   "cell_type": "code",
   "execution_count": 154,
   "metadata": {},
   "outputs": [
    {
     "name": "stdout",
     "output_type": "stream",
     "text": [
      "Mean Squared Error on New Dataset: 0.3352672014168462\n"
     ]
    }
   ],
   "source": [
    "from sklearn.linear_model import LinearRegression\n",
    "from sklearn.metrics import mean_squared_error\n",
    "\n",
    "# Train the model on the new dataset\n",
    "model_newDec = LinearRegression()\n",
    "model_newDec.fit(X_train_newDec, y_train_newDec)\n",
    "\n",
    "# Predictions and evaluation on the new dataset\n",
    "predictions_newDec = model_newDec.predict(X_test_newDec)\n",
    "mse_newDec = mean_squared_error(y_test_newDec, predictions_newDec)\n",
    "print(f\"Mean Squared Error on New Dataset: {mse_newDec}\")"
   ]
  },
  {
   "cell_type": "code",
   "execution_count": 156,
   "metadata": {},
   "outputs": [
    {
     "name": "stdout",
     "output_type": "stream",
     "text": [
      "                               OLS Regression Results                              \n",
      "===================================================================================\n",
      "Dep. Variable:     Log Sales Rank: Current   R-squared:                       0.279\n",
      "Model:                                 OLS   Adj. R-squared:                  0.278\n",
      "Method:                      Least Squares   F-statistic:                     309.1\n",
      "Date:                     Sat, 17 Feb 2024   Prob (F-statistic):          1.90e-280\n",
      "Time:                             15:02:10   Log-Likelihood:                -3169.6\n",
      "No. Observations:                     4000   AIC:                             6351.\n",
      "Df Residuals:                         3994   BIC:                             6389.\n",
      "Df Model:                                5                                         \n",
      "Covariance Type:                 nonrobust                                         \n",
      "============================================================================================\n",
      "                               coef    std err          t      P>|t|      [0.025      0.975]\n",
      "--------------------------------------------------------------------------------------------\n",
      "const                        7.3611      0.011    647.000      0.000       7.339       7.383\n",
      "Reviews: Rating             13.2763      0.717     18.512      0.000      11.870      14.682\n",
      "Reviews: Review Count    -2.262e-05   6.69e-07    -33.818      0.000   -2.39e-05   -2.13e-05\n",
      "Buy Box: Is FBA          -2.619e-13   1.43e-14    -18.360      0.000    -2.9e-13   -2.34e-13\n",
      "Variation ASIN Count        -0.0568      0.004    -14.009      0.000      -0.065      -0.049\n",
      "FBA Pick&Pack Fee           -0.0190      0.005     -4.196      0.000      -0.028      -0.010\n",
      "New Offer Count: Current    -0.0100      0.001     -7.330      0.000      -0.013      -0.007\n",
      "==============================================================================\n",
      "Omnibus:                     1649.583   Durbin-Watson:                   2.038\n",
      "Prob(Omnibus):                  0.000   Jarque-Bera (JB):            87120.386\n",
      "Skew:                          -1.185   Prob(JB):                         0.00\n",
      "Kurtosis:                      25.740   Cond. No.                     2.09e+20\n",
      "==============================================================================\n",
      "\n",
      "Notes:\n",
      "[1] Standard Errors assume that the covariance matrix of the errors is correctly specified.\n",
      "[2] The smallest eigenvalue is 2.32e-29. This might indicate that there are\n",
      "strong multicollinearity problems or that the design matrix is singular.\n"
     ]
    }
   ],
   "source": [
    "import statsmodels.api as sm\n",
    "import numpy as np\n",
    "\n",
    "# Add a constant to the features for the intercept\n",
    "X_train_sm_Dec = sm.add_constant(X_train_newDec)\n",
    "\n",
    "# Fit the model\n",
    "modelDec = sm.OLS(y_train_newDec, X_train_sm_Dec).fit()\n",
    "\n",
    "# Print the summary\n",
    "print(modelDec.summary())\n"
   ]
  },
  {
   "cell_type": "code",
   "execution_count": 179,
   "metadata": {},
   "outputs": [],
   "source": [
    "# Load your new dataset\n",
    "new_data3 = pd.read_csv('Keepa Nov 2023.csv')  # Adjust the path as necessary\n",
    "\n",
    "# Filter the new dataset to only include ASINs that are in both datasets\n",
    "filtered_new_dataNov1 = new_data3[new_data3['ASIN'].isin(current_asins)]\n"
   ]
  },
  {
   "cell_type": "code",
   "execution_count": 180,
   "metadata": {},
   "outputs": [],
   "source": [
    "filtered_new_dataNov = filtered_new_dataNov1.drop(['Locale', 'Image'], axis =1)\n",
    "pd.set_option('display.max_columns', None)\n",
    "pd.set_option('display.max_rows', None)\n",
    "\n",
    "#Parsing Sales rank\n",
    "def parse_sales_rank(row):\n",
    "    if isinstance(row, str):\n",
    "        parts = row.split('|')\n",
    "        absolute_rank = parts[0].strip()\n",
    "        top_1_percent = parts[1].strip()\n",
    "\n",
    "        category_part = parts[-1].strip()\n",
    "        category = category_part.split(';')[0].strip()\n",
    "\n",
    "        return pd.Series([absolute_rank, top_1_percent, category])\n",
    "    else:\n",
    "        return pd.Series([None,None,None])\n",
    "    \n",
    "#Count Variation ASIN\n",
    "filtered_new_dataNov['Variation ASINs'] = filtered_new_dataNov['Variation ASINs'].fillna(\"\")\n",
    "filtered_new_dataNov['Variation ASIN Count'] = filtered_new_dataNov['Variation ASINs'].apply(lambda x: len(x.split(',')))"
   ]
  },
  {
   "cell_type": "code",
   "execution_count": 181,
   "metadata": {},
   "outputs": [],
   "source": [
    "import pandas as pd\n",
    "import numpy as np\n",
    "\n",
    "# Assuming df_encoded is your DataFrame\n",
    "\n",
    "# List of variables you need\n",
    "required_columns = [\n",
    "    'Reviews: Rating', 'Reviews: Review Count', 'Buy Box: Is FBA', \n",
    "    'Bought in past month', 'FBA Pick&Pack Fee', 'New Offer Count: Current', \n",
    "    'Variation ASIN Count', 'Sales Rank: Current'\n",
    "]\n",
    "\n",
    "# Focus only on required columns for simplicity\n",
    "df_model2 = df_encoded[required_columns].copy()\n",
    "\n",
    "# Handling missing values - Assuming you want to fill numeric NAs with 0\n",
    "# and categorical/binary with a placeholder or most common category\n",
    "df_model2['Buy Box: Is FBA'] = df_model2['Buy Box: Is FBA'].fillna('Missing')  # Or another strategy as per your data understanding\n",
    "df_model2.fillna(0, inplace=True)  # For numeric columns\n",
    "\n",
    "# Encoding binary variable 'Buy Box: Is FBA' if it's not already numeric\n",
    "if df_model2['Buy Box: Is FBA'].dtype == object:\n",
    "    df_model2['Buy Box: Is FBA'] = df_model2['Buy Box: Is FBA'].map({'yes': 1, 'no': 0, 'Missing': -1}).astype(int)\n",
    "\n",
    "# Ensuring all other numeric variables are in correct numeric format\n",
    "# This step is crucial if your data has numbers stored as strings, possibly with '$' signs or commas\n",
    "numeric_columns = ['Reviews: Rating', 'Reviews: Review Count', 'Bought in past month', \n",
    "                   'FBA Pick&Pack Fee', 'New Offer Count: Current', 'Variation ASIN Count', 'Sales Rank: Current']\n",
    "\n",
    "for column in numeric_columns:\n",
    "    # Removing potential formatting characters\n",
    "    df_model2[column] = df_model2[column].astype(str).str.replace('[\\$,]', '', regex=True)\n",
    "    df_model2[column] = pd.to_numeric(df_model2[column], errors='coerce')\n",
    "\n",
    "# Fill any conversion issues with 0 or another placeholder\n",
    "df_model2.fillna(0, inplace=True)\n",
    "\n",
    "modified_new_dataNov=df_model"
   ]
  },
  {
   "cell_type": "code",
   "execution_count": 182,
   "metadata": {},
   "outputs": [
    {
     "name": "stderr",
     "output_type": "stream",
     "text": [
      "/opt/anaconda3/lib/python3.8/site-packages/pandas/core/arraylike.py:396: RuntimeWarning: divide by zero encountered in log\n",
      "  result = getattr(ufunc, method)(*inputs, **kwargs)\n"
     ]
    }
   ],
   "source": [
    "modified_new_dataNov['Log Sales Rank: Current'] = np.log(modified_new_dataNov['Sales Rank: Current'])\n",
    "\n",
    "# Assuming 'columns_of_interest' remains the same, otherwise adjust as needed\n",
    "cleaned_new_dataNov = modified_new_dataNov[columns_of_interest + ['Log Sales Rank: Current']].dropna()\n",
    "\n",
    "# Splitting the cleaned new data into features (X) and target (y)\n",
    "X_newNov = cleaned_new_dataNov[columns_of_interest]\n",
    "y_newNov = cleaned_new_dataNov['Log Sales Rank: Current']\n",
    "\n",
    "# Splitting the data into training and testing sets for the new dataset\n",
    "X_train_newNov, X_test_newNov, y_train_newNov, y_test_newNov = train_test_split(X_newNov, y_newNov, test_size=0.2, random_state=42)"
   ]
  },
  {
   "cell_type": "markdown",
   "metadata": {},
   "source": [
    "X_train_newNov = X_train_newNov.fillna(X_train_newNov.mean())\n",
    "y_test_newNov= y_test_newNov.fillna(y_test_newNov.mean()) "
   ]
  },
  {
   "cell_type": "code",
   "execution_count": 188,
   "metadata": {},
   "outputs": [
    {
     "name": "stderr",
     "output_type": "stream",
     "text": [
      "<ipython-input-188-d4bcd9cc0a8f>:2: SettingWithCopyWarning: \n",
      "A value is trying to be set on a copy of a slice from a DataFrame\n",
      "\n",
      "See the caveats in the documentation: https://pandas.pydata.org/pandas-docs/stable/user_guide/indexing.html#returning-a-view-versus-a-copy\n",
      "  X_train_newNov.replace([np.inf, -np.inf], np.nan, inplace=True)\n",
      "<ipython-input-188-d4bcd9cc0a8f>:3: SettingWithCopyWarning: \n",
      "A value is trying to be set on a copy of a slice from a DataFrame\n",
      "\n",
      "See the caveats in the documentation: https://pandas.pydata.org/pandas-docs/stable/user_guide/indexing.html#returning-a-view-versus-a-copy\n",
      "  X_train_newNov.fillna(X_train_newNov.mean(), inplace=True)\n"
     ]
    }
   ],
   "source": [
    "# Replacing infinity with NaNs for imputation in features\n",
    "X_train_newNov.replace([np.inf, -np.inf], np.nan, inplace=True)\n",
    "X_train_newNov.fillna(X_train_newNov.mean(), inplace=True)\n",
    "\n",
    "# Assuming y_train_newDec is a Series; if it has potential infinity values:\n",
    "y_test_newNov.replace([np.inf, -np.inf], np.nan, inplace=True)\n",
    "y_test_newNov.fillna(y_test_newNov.mean(), inplace=True)"
   ]
  },
  {
   "cell_type": "code",
   "execution_count": 185,
   "metadata": {},
   "outputs": [
    {
     "name": "stderr",
     "output_type": "stream",
     "text": [
      "<ipython-input-185-e86820c84539>:2: SettingWithCopyWarning: \n",
      "A value is trying to be set on a copy of a slice from a DataFrame\n",
      "\n",
      "See the caveats in the documentation: https://pandas.pydata.org/pandas-docs/stable/user_guide/indexing.html#returning-a-view-versus-a-copy\n",
      "  X_train_newNov.replace([np.inf, -np.inf], np.nan, inplace=True)\n",
      "<ipython-input-185-e86820c84539>:3: SettingWithCopyWarning: \n",
      "A value is trying to be set on a copy of a slice from a DataFrame\n",
      "\n",
      "See the caveats in the documentation: https://pandas.pydata.org/pandas-docs/stable/user_guide/indexing.html#returning-a-view-versus-a-copy\n",
      "  X_train_newNov.fillna(X_train_newNov.mean(), inplace=True)\n"
     ]
    }
   ],
   "source": [
    "# Replacing infinity with NaNs for imputation in features\n",
    "X_train_newNov.replace([np.inf, -np.inf], np.nan, inplace=True)\n",
    "X_train_newNov.fillna(X_train_newNov.mean(), inplace=True)\n",
    "\n",
    "# Assuming y_train_newDec is a Series; if it has potential infinity values:\n",
    "y_train_newNov.replace([np.inf, -np.inf], np.nan, inplace=True)\n",
    "y_train_newNov.fillna(y_train_newNov.mean(), inplace=True)"
   ]
  },
  {
   "cell_type": "code",
   "execution_count": 189,
   "metadata": {},
   "outputs": [
    {
     "name": "stdout",
     "output_type": "stream",
     "text": [
      "0 NaNs in X_train_newDec\n",
      "0 NaNs in y_train_newDec\n",
      "0 Infinities in X_train_newDec\n",
      "0 Infinities in y_test_newDec\n"
     ]
    }
   ],
   "source": [
    "# Check for NaNs again\n",
    "print(X_test_newNov.isnull().sum().sum(), \"NaNs in X_train_newDec\")\n",
    "print(y_test_newNov.isnull().sum(), \"NaNs in y_train_newDec\")\n",
    "\n",
    "# Check for infinity\n",
    "print(np.isinf(X_test_newNov.values).sum(), \"Infinities in X_train_newDec\")\n",
    "print(np.isinf(y_train_newNov.values).sum(), \"Infinities in y_test_newDec\")"
   ]
  },
  {
   "cell_type": "code",
   "execution_count": 190,
   "metadata": {},
   "outputs": [
    {
     "name": "stdout",
     "output_type": "stream",
     "text": [
      "Mean Squared Error on New Dataset: 0.3352672014168462\n"
     ]
    }
   ],
   "source": [
    "from sklearn.linear_model import LinearRegression\n",
    "from sklearn.metrics import mean_squared_error\n",
    "\n",
    "# Train the model on the new dataset\n",
    "model_newNov = LinearRegression()\n",
    "model_newNov.fit(X_train_newNov, y_train_newNov)\n",
    "\n",
    "# Predictions and evaluation on the new dataset\n",
    "predictions_newNov = model_newNov.predict(X_test_newNov)\n",
    "mse_newNov = mean_squared_error(y_test_newNov, predictions_newNov)\n",
    "print(f\"Mean Squared Error on New Dataset: {mse_newNov}\")"
   ]
  },
  {
   "cell_type": "code",
   "execution_count": 191,
   "metadata": {},
   "outputs": [
    {
     "name": "stdout",
     "output_type": "stream",
     "text": [
      "                               OLS Regression Results                              \n",
      "===================================================================================\n",
      "Dep. Variable:     Log Sales Rank: Current   R-squared:                       0.279\n",
      "Model:                                 OLS   Adj. R-squared:                  0.278\n",
      "Method:                      Least Squares   F-statistic:                     309.1\n",
      "Date:                     Sat, 17 Feb 2024   Prob (F-statistic):          1.90e-280\n",
      "Time:                             15:25:26   Log-Likelihood:                -3169.6\n",
      "No. Observations:                     4000   AIC:                             6351.\n",
      "Df Residuals:                         3994   BIC:                             6389.\n",
      "Df Model:                                5                                         \n",
      "Covariance Type:                 nonrobust                                         \n",
      "============================================================================================\n",
      "                               coef    std err          t      P>|t|      [0.025      0.975]\n",
      "--------------------------------------------------------------------------------------------\n",
      "const                        7.3611      0.011    647.000      0.000       7.339       7.383\n",
      "Reviews: Rating             13.2763      0.717     18.512      0.000      11.870      14.682\n",
      "Reviews: Review Count    -2.262e-05   6.69e-07    -33.818      0.000   -2.39e-05   -2.13e-05\n",
      "Buy Box: Is FBA          -2.619e-13   1.43e-14    -18.360      0.000    -2.9e-13   -2.34e-13\n",
      "Variation ASIN Count        -0.0568      0.004    -14.009      0.000      -0.065      -0.049\n",
      "FBA Pick&Pack Fee           -0.0190      0.005     -4.196      0.000      -0.028      -0.010\n",
      "New Offer Count: Current    -0.0100      0.001     -7.330      0.000      -0.013      -0.007\n",
      "==============================================================================\n",
      "Omnibus:                     1649.583   Durbin-Watson:                   2.038\n",
      "Prob(Omnibus):                  0.000   Jarque-Bera (JB):            87120.386\n",
      "Skew:                          -1.185   Prob(JB):                         0.00\n",
      "Kurtosis:                      25.740   Cond. No.                     2.09e+20\n",
      "==============================================================================\n",
      "\n",
      "Notes:\n",
      "[1] Standard Errors assume that the covariance matrix of the errors is correctly specified.\n",
      "[2] The smallest eigenvalue is 2.32e-29. This might indicate that there are\n",
      "strong multicollinearity problems or that the design matrix is singular.\n"
     ]
    }
   ],
   "source": [
    "import statsmodels.api as sm\n",
    "import numpy as np\n",
    "\n",
    "# Add a constant to the features for the intercept\n",
    "X_train_sm_Nov = sm.add_constant(X_train_newNov)\n",
    "\n",
    "# Fit the model\n",
    "modelNov = sm.OLS(y_train_newNov, X_train_sm_Nov).fit()\n",
    "\n",
    "# Print the summary\n",
    "print(modelNov.summary())\n"
   ]
  },
  {
   "cell_type": "code",
   "execution_count": null,
   "metadata": {},
   "outputs": [],
   "source": [
    "modified_data_testing.head()"
   ]
  }
 ],
 "metadata": {
  "kernelspec": {
   "display_name": "Python 3",
   "language": "python",
   "name": "python3"
  },
  "language_info": {
   "codemirror_mode": {
    "name": "ipython",
    "version": 3
   },
   "file_extension": ".py",
   "mimetype": "text/x-python",
   "name": "python",
   "nbconvert_exporter": "python",
   "pygments_lexer": "ipython3",
   "version": "3.8.8"
  }
 },
 "nbformat": 4,
 "nbformat_minor": 2
}
